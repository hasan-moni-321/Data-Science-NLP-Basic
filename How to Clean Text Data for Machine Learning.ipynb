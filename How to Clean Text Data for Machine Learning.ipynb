{
 "cells": [
  {
   "cell_type": "code",
   "execution_count": 95,
   "metadata": {},
   "outputs": [],
   "source": [
    "import numpy as np\n",
    "import pandas as pd\n",
    "import seaborn as sns\n",
    "import matplotlib.pyplot as plt\n",
    "\n",
    "import re, string\n",
    "from nltk import sent_tokenize, word_tokenize\n",
    "from nltk.corpus import stopwords\n",
    "from nltk.stem.porter import PorterStemmer\n"
   ]
  },
  {
   "cell_type": "code",
   "execution_count": 51,
   "metadata": {},
   "outputs": [
    {
     "data": {
      "text/plain": [
       "<function TextIOWrapper.close()>"
      ]
     },
     "execution_count": 51,
     "metadata": {},
     "output_type": "execute_result"
    }
   ],
   "source": [
    "path = '/home/hasan/DATA SET/about bangladesh.txt'\n",
    "file = open(path,'rt')\n",
    "text = file.read()\n",
    "file.close"
   ]
  },
  {
   "cell_type": "code",
   "execution_count": 52,
   "metadata": {},
   "outputs": [
    {
     "data": {
      "text/plain": [
       "\"Bangladesh is a country in South Asia. It is the eighth-most populous country in the world, with a population exceeding 161 million people. In terms of land mass, Bangladesh ranks 92nd, spanning 147,570 square kilometres (56,980 sq mi), making it one of the most densely-populated countries in the world. Bangladesh shares land borders with India to the west, north, and east, Myanmar to the southeast, and the Bay of Bengal to the south. It is narrowly separated from Nepal and Bhutan by India's Siliguri Corridor, and from China by the Indian state of Sikkim, in the north, respectively. Dhaka, the capital and largest city, is the nation's economic, political and cultural hub. Chittagong, the largest sea port, is the second largest city. With numerous criss-crossing rivers and inland waterways, the dominant geographic feature of Bangladesh is the Ganges delta, which empties into the Bay of Bengal with the combined waters of several river systems, including the Brahmaputra river and the Ganges river. Highlands, with evergreen forests, cover the northeastern and southeastern regions, while the country's biodiversity comprises a vast array of plants and wildlife, including the endangered Royal Bengal tiger, which is the national animal.The seacoast features the world's longest natural sandy beach in Cox's Bazar as well as the Sundarbans, which is the world's largest mangrove forest.\\n\\nBangladesh forms the larger and eastern part of the Bengal region.According to the ancient sacred Indian texts, Ramayana and Mahabharata, the Vanga Kingdom, one of the namesakes of the Bengal region, was a strong naval ally of the legendary Ayodhya. In the ancient and classical period of the Indian subcontinent, the territory was home to many principalities, including the Pundra, Gangaridai, Gauda, Samatata and Harikela. It was also a Mauryan province under the reign of Ashoka. The principalities were notable for their overseas trade, contacts with the Roman world, export of fine muslin and silk to the Middle East, and spreading of philosophy and art to Southeast Asia. The Pala Empire, the Chandra dynasty, and the Sena dynasty were the last pre-Islamic Bengali middle kingdoms. Islam was introduced during the Pala Empire, through trade with the Abbasid Caliphate,but following the early conquest of Bakhtiyar Khalji and the subsequent establishment of the Delhi Sultanate and preaching of Shah Jalal in East Bengal, the faith fully spread across the region. In 1576, the wealthy Bengal Sultanate was absorbed into the Mughal Empire, but its rule was briefly interrupted by the Suri Empire. Following the death of Emperor Aurangzeb in the early 1700s, the proto-industrialised Mughal Bengal became a semi-independent state under the Nawabs of Bengal. The region was later conquered by the British East India Company at the Battle of Plassey in 1757.The borders of modern Bangladesh were established with the separation of Bengal and India in August 1947, when the region became East Pakistan as a part of the newly formed State of Pakistan, demarcated by the Boundary of the Partition of India. Later the rise of the Bengali nationalist and self-determination movement led to the Liberation War and eventually resulted in the emergence of Bangladesh as a sovereign and independent nation in 1971. \\n\""
      ]
     },
     "execution_count": 52,
     "metadata": {},
     "output_type": "execute_result"
    }
   ],
   "source": [
    "text"
   ]
  },
  {
   "cell_type": "markdown",
   "metadata": {},
   "source": [
    "### Split by Whitespace"
   ]
  },
  {
   "cell_type": "code",
   "execution_count": 53,
   "metadata": {},
   "outputs": [
    {
     "name": "stdout",
     "output_type": "stream",
     "text": [
      "['Bangladesh', 'is', 'a', 'country', 'in', 'South', 'Asia.', 'It', 'is', 'the']\n",
      "Length of words is : 521\n"
     ]
    }
   ],
   "source": [
    "words = text.split()\n",
    "print(words[:10])\n",
    "print('Length of words is :',len(words))"
   ]
  },
  {
   "cell_type": "code",
   "execution_count": 54,
   "metadata": {},
   "outputs": [
    {
     "name": "stdout",
     "output_type": "stream",
     "text": [
      "['Bangladesh', 'is', 'a', 'country', 'in', 'South', 'Asia.', 'It', 'is', 'the', 'eighth-most', 'populous', 'country', 'in', 'the', 'world,', 'with', 'a', 'population', 'exceeding']\n"
     ]
    }
   ],
   "source": [
    "#small text of the whole text\n",
    "small_text = words[:20]\n",
    "print(small_text)"
   ]
  },
  {
   "cell_type": "code",
   "execution_count": 55,
   "metadata": {},
   "outputs": [
    {
     "data": {
      "text/plain": [
       "list"
      ]
     },
     "execution_count": 55,
     "metadata": {},
     "output_type": "execute_result"
    }
   ],
   "source": [
    "#type of small_text\n",
    "type(small_text)"
   ]
  },
  {
   "cell_type": "markdown",
   "metadata": {},
   "source": [
    "### Select Words re(regex)"
   ]
  },
  {
   "cell_type": "markdown",
   "metadata": {},
   "source": [
    "re select only words from the text"
   ]
  },
  {
   "cell_type": "code",
   "execution_count": 56,
   "metadata": {},
   "outputs": [
    {
     "name": "stdout",
     "output_type": "stream",
     "text": [
      "Length of words is : 541\n"
     ]
    }
   ],
   "source": [
    "words = re.split(r'\\W+',text)\n",
    "print('Length of words is :',len(words))"
   ]
  },
  {
   "cell_type": "code",
   "execution_count": 57,
   "metadata": {},
   "outputs": [
    {
     "name": "stdout",
     "output_type": "stream",
     "text": [
      "['Bangladesh', 'is', 'a', 'country', 'in', 'South', 'Asia', 'It', 'is', 'the', 'eighth', 'most', 'populous', 'country', 'in', 'the', 'world', 'with', 'a', 'population']\n"
     ]
    }
   ],
   "source": [
    "print(words[:20])"
   ]
  },
  {
   "cell_type": "code",
   "execution_count": null,
   "metadata": {},
   "outputs": [],
   "source": []
  },
  {
   "cell_type": "markdown",
   "metadata": {},
   "source": [
    "### Split by Whitespace and Remove Punctuation"
   ]
  },
  {
   "cell_type": "code",
   "execution_count": 58,
   "metadata": {},
   "outputs": [
    {
     "name": "stdout",
     "output_type": "stream",
     "text": [
      "!\"#$%&'()*+,-./:;<=>?@[\\]^_`{|}~\n"
     ]
    }
   ],
   "source": [
    "#printing punctuation\n",
    "print(string.punctuation)"
   ]
  },
  {
   "cell_type": "code",
   "execution_count": 59,
   "metadata": {},
   "outputs": [
    {
     "name": "stdout",
     "output_type": "stream",
     "text": [
      "['Bangladesh', 'is', 'a', 'country', 'in', 'South', 'Asia', 'It', 'is', 'the', 'eighthmost', 'populous', 'country', 'in', 'the', 'world', 'with', 'a', 'population', 'exceeding']\n",
      "Length of stripped : 521\n"
     ]
    }
   ],
   "source": [
    "#split into words by white space\n",
    "words = text.split()\n",
    "\n",
    "#removing punctuation from each words\n",
    "table = str.maketrans('','',string.punctuation)\n",
    "stripped = [w.translate(table) for w in words]\n",
    "print(stripped[:20])\n",
    "print('Length of stripped :',len(stripped))"
   ]
  },
  {
   "cell_type": "code",
   "execution_count": null,
   "metadata": {},
   "outputs": [],
   "source": []
  },
  {
   "cell_type": "markdown",
   "metadata": {},
   "source": [
    "### Normalizing Case"
   ]
  },
  {
   "cell_type": "code",
   "execution_count": 60,
   "metadata": {},
   "outputs": [
    {
     "name": "stdout",
     "output_type": "stream",
     "text": [
      "['bangladesh', 'is', 'a', 'country', 'in', 'south', 'asia.', 'it', 'is', 'the', 'eighth-most', 'populous', 'country', 'in', 'the', 'world,', 'with', 'a', 'population', 'exceeding']\n"
     ]
    }
   ],
   "source": [
    "#Every character converted to lower case\n",
    "word = text.split()\n",
    "words = [w.lower() for w in word]\n",
    "print(words[:20])"
   ]
  },
  {
   "cell_type": "code",
   "execution_count": null,
   "metadata": {},
   "outputs": [],
   "source": []
  },
  {
   "cell_type": "markdown",
   "metadata": {},
   "source": [
    "### Split into Sentences"
   ]
  },
  {
   "cell_type": "code",
   "execution_count": 71,
   "metadata": {},
   "outputs": [
    {
     "name": "stdout",
     "output_type": "stream",
     "text": [
      "['Bangladesh is a country in South Asia.', 'It is the eighth-most populous country in the world, with a population exceeding 161 million people.', 'In terms of land mass, Bangladesh ranks 92nd, spanning 147,570 square kilometres (56,980 sq mi), making it one of the most densely-populated countries in the world.', 'Bangladesh shares land borders with India to the west, north, and east, Myanmar to the southeast, and the Bay of Bengal to the south.', \"It is narrowly separated from Nepal and Bhutan by India's Siliguri Corridor, and from China by the Indian state of Sikkim, in the north, respectively.\"]\n",
      "\n",
      "\n",
      "Total number of sentences : 19\n"
     ]
    }
   ],
   "source": [
    "#split into sentence\n",
    "sentence = sent_tokenize(text)\n",
    "print(sentence[:5])\n",
    "print('\\n\\nTotal number of sentences :',len(sentence))"
   ]
  },
  {
   "cell_type": "code",
   "execution_count": null,
   "metadata": {},
   "outputs": [],
   "source": []
  },
  {
   "cell_type": "markdown",
   "metadata": {},
   "source": [
    "### Split into Words"
   ]
  },
  {
   "cell_type": "code",
   "execution_count": 72,
   "metadata": {},
   "outputs": [
    {
     "name": "stdout",
     "output_type": "stream",
     "text": [
      "['Bangladesh', 'is', 'a', 'country', 'in', 'South', 'Asia', '.', 'It', 'is', 'the', 'eighth-most', 'populous', 'country', 'in', 'the', 'world', ',', 'with', 'a']\n",
      "\n",
      "\n",
      "Total number of words : 596\n"
     ]
    }
   ],
   "source": [
    "#split into words\n",
    "words = word_tokenize(text)\n",
    "print(words[:20])\n",
    "print('\\n\\nTotal number of words :',len(words))"
   ]
  },
  {
   "cell_type": "code",
   "execution_count": null,
   "metadata": {},
   "outputs": [],
   "source": []
  },
  {
   "cell_type": "markdown",
   "metadata": {},
   "source": [
    "### Filter out Punctuation"
   ]
  },
  {
   "cell_type": "markdown",
   "metadata": {},
   "source": [
    "We can filter punctuation using isalpha() python function"
   ]
  },
  {
   "cell_type": "code",
   "execution_count": 76,
   "metadata": {},
   "outputs": [
    {
     "name": "stdout",
     "output_type": "stream",
     "text": [
      "['Bangladesh', 'is', 'a', 'country', 'in', 'South', 'Asia', 'It', 'is', 'the', 'populous', 'country', 'in', 'the', 'world', 'with', 'a', 'population', 'exceeding', 'million']\n",
      "\n",
      "\n",
      " Length of the words is : 504\n"
     ]
    }
   ],
   "source": [
    "tokens = word_tokenize(text)\n",
    "words = [w for w in tokens if w.isalpha()]\n",
    "print(words[:20])\n",
    "print('\\n\\n Length of the words is :',len(words))"
   ]
  },
  {
   "cell_type": "code",
   "execution_count": null,
   "metadata": {},
   "outputs": [],
   "source": []
  },
  {
   "cell_type": "markdown",
   "metadata": {},
   "source": [
    "### Filter out Stop Words"
   ]
  },
  {
   "cell_type": "code",
   "execution_count": 79,
   "metadata": {},
   "outputs": [
    {
     "name": "stdout",
     "output_type": "stream",
     "text": [
      "['i', 'me', 'my', 'myself', 'we', 'our', 'ours', 'ourselves', 'you', \"you're\", \"you've\", \"you'll\", \"you'd\", 'your', 'yours', 'yourself', 'yourselves', 'he', 'him', 'his', 'himself', 'she', \"she's\", 'her', 'hers', 'herself', 'it', \"it's\", 'its', 'itself', 'they', 'them', 'their', 'theirs', 'themselves', 'what', 'which', 'who', 'whom', 'this', 'that', \"that'll\", 'these', 'those', 'am', 'is', 'are', 'was', 'were', 'be', 'been', 'being', 'have', 'has', 'had', 'having', 'do', 'does', 'did', 'doing', 'a', 'an', 'the', 'and', 'but', 'if', 'or', 'because', 'as', 'until', 'while', 'of', 'at', 'by', 'for', 'with', 'about', 'against', 'between', 'into', 'through', 'during', 'before', 'after', 'above', 'below', 'to', 'from', 'up', 'down', 'in', 'out', 'on', 'off', 'over', 'under', 'again', 'further', 'then', 'once', 'here', 'there', 'when', 'where', 'why', 'how', 'all', 'any', 'both', 'each', 'few', 'more', 'most', 'other', 'some', 'such', 'no', 'nor', 'not', 'only', 'own', 'same', 'so', 'than', 'too', 'very', 's', 't', 'can', 'will', 'just', 'don', \"don't\", 'should', \"should've\", 'now', 'd', 'll', 'm', 'o', 're', 've', 'y', 'ain', 'aren', \"aren't\", 'couldn', \"couldn't\", 'didn', \"didn't\", 'doesn', \"doesn't\", 'hadn', \"hadn't\", 'hasn', \"hasn't\", 'haven', \"haven't\", 'isn', \"isn't\", 'ma', 'mightn', \"mightn't\", 'mustn', \"mustn't\", 'needn', \"needn't\", 'shan', \"shan't\", 'shouldn', \"shouldn't\", 'wasn', \"wasn't\", 'weren', \"weren't\", 'won', \"won't\", 'wouldn', \"wouldn't\"]\n"
     ]
    }
   ],
   "source": [
    "#printing stopwords of nltk\n",
    "stop_words = stopwords.words('english')\n",
    "print(stop_words)"
   ]
  },
  {
   "cell_type": "code",
   "execution_count": 93,
   "metadata": {},
   "outputs": [
    {
     "name": "stdout",
     "output_type": "stream",
     "text": [
      "['Bangladesh', 'country', 'South', 'Asia', 'It', 'populous', 'country', 'world', 'population', 'exceeding', 'million', 'people', 'In', 'terms', 'land', 'mass', 'Bangladesh', 'ranks', 'spanning', 'square']\n",
      "\n",
      "\n",
      "Length of words is : 299\n"
     ]
    }
   ],
   "source": [
    "#tokenizing word\n",
    "tokens = word_tokenize(text)\n",
    "#lowercase of every word\n",
    "low_word = [w.lower() for w in tokens]\n",
    "\n",
    "table = str.maketrans('','',string.punctuation)\n",
    "stripped = [w.translate(table) for w in low_word]\n",
    "\n",
    "# remove remaining tokens that are not alphabetic\n",
    "word = [word for word in stripped if word.isalpha()]\n",
    "#filter out using stopwords\n",
    "stop_words = set(stopwords.words('english'))\n",
    "words = [w for w in words if not w in stop_words]\n",
    "print(words[:20])\n",
    "print('\\n\\nLength of words is :',len(words))"
   ]
  },
  {
   "cell_type": "code",
   "execution_count": null,
   "metadata": {},
   "outputs": [],
   "source": []
  },
  {
   "cell_type": "markdown",
   "metadata": {},
   "source": [
    "### Stem words"
   ]
  },
  {
   "cell_type": "code",
   "execution_count": 99,
   "metadata": {},
   "outputs": [
    {
     "name": "stdout",
     "output_type": "stream",
     "text": [
      "['bangladesh', 'is', 'a', 'countri', 'in', 'south', 'asia', '.', 'It', 'is', 'the', 'eighth-most', 'popul', 'countri', 'in', 'the', 'world', ',', 'with', 'a']\n",
      "\n",
      "\n",
      "Length of stemmed is : 596\n"
     ]
    }
   ],
   "source": [
    "#tokenize into word\n",
    "tokens = word_tokenize(text)\n",
    "\n",
    "ps = PorterStemmer()\n",
    "stemmed = [ps.stem(word) for  word in tokens]\n",
    "print(stemmed[:20])\n",
    "print('\\n\\nLength of stemmed is :',len(stemmed))"
   ]
  },
  {
   "cell_type": "code",
   "execution_count": null,
   "metadata": {},
   "outputs": [],
   "source": []
  }
 ],
 "metadata": {
  "kernelspec": {
   "display_name": "Python 3",
   "language": "python",
   "name": "python3"
  },
  "language_info": {
   "codemirror_mode": {
    "name": "ipython",
    "version": 3
   },
   "file_extension": ".py",
   "mimetype": "text/x-python",
   "name": "python",
   "nbconvert_exporter": "python",
   "pygments_lexer": "ipython3",
   "version": "3.7.4"
  }
 },
 "nbformat": 4,
 "nbformat_minor": 2
}
