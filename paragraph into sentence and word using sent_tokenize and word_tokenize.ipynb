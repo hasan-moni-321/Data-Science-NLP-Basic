{
 "cells": [
  {
   "cell_type": "code",
   "execution_count": 11,
   "metadata": {},
   "outputs": [],
   "source": [
    "import numpy as np\n",
    "import pandas as pd\n",
    "import seaborn as sns\n",
    "import matplotlib.pyplot as plt\n",
    "\n",
    "import nltk as nlt\n",
    "\n",
    "import nltk\n",
    "#nltk.download('punkt')"
   ]
  },
  {
   "cell_type": "code",
   "execution_count": 15,
   "metadata": {},
   "outputs": [],
   "source": [
    "paragraph = \"\"\"My name is Hasa. I live in Sylhet. Recently I graduated from Leading University \n",
    "in CSE(Computer Science and Engineering). I have a passion in Artificial Intelligence, for\n",
    "this I have been working in this sector for more than 2 year and also completed some \n",
    "project in Data Science Those I kept in my github profile. Please visit my github profile\n",
    "to  judge my work on Data Science field.\"\"\"\n"
   ]
  },
  {
   "cell_type": "code",
   "execution_count": 17,
   "metadata": {},
   "outputs": [
    {
     "data": {
      "text/plain": [
       "['My name is Hasa.',\n",
       " 'I live in Sylhet.',\n",
       " 'Recently I graduated from Leading University \\nin CSE(Computer Science and Engineering).',\n",
       " 'I have a passion in Artificial Intelligence, for\\nthis I have been working in this sector for more than 2 year and also completed some \\nproject in Data Science Those I kept in my github profile.',\n",
       " 'Please visit my github profile\\nto  judge my work on Data Science field.']"
      ]
     },
     "execution_count": 17,
     "metadata": {},
     "output_type": "execute_result"
    }
   ],
   "source": [
    "#spliting paragraph in sentence\n",
    "sentence = nlt.sent_tokenize(paragraph)\n",
    "sentence"
   ]
  },
  {
   "cell_type": "code",
   "execution_count": 22,
   "metadata": {},
   "outputs": [
    {
     "data": {
      "text/plain": [
       "['My',\n",
       " 'name',\n",
       " 'is',\n",
       " 'Hasa',\n",
       " '.',\n",
       " 'I',\n",
       " 'live',\n",
       " 'in',\n",
       " 'Sylhet',\n",
       " '.',\n",
       " 'Recently',\n",
       " 'I',\n",
       " 'graduated',\n",
       " 'from',\n",
       " 'Leading',\n",
       " 'University',\n",
       " 'in',\n",
       " 'CSE',\n",
       " '(',\n",
       " 'Computer',\n",
       " 'Science',\n",
       " 'and',\n",
       " 'Engineering',\n",
       " ')',\n",
       " '.',\n",
       " 'I',\n",
       " 'have',\n",
       " 'a',\n",
       " 'passion',\n",
       " 'in',\n",
       " 'Artificial',\n",
       " 'Intelligence',\n",
       " ',',\n",
       " 'for',\n",
       " 'this',\n",
       " 'I',\n",
       " 'have',\n",
       " 'been',\n",
       " 'working',\n",
       " 'in',\n",
       " 'this',\n",
       " 'sector',\n",
       " 'for',\n",
       " 'more',\n",
       " 'than',\n",
       " '2',\n",
       " 'year',\n",
       " 'and',\n",
       " 'also',\n",
       " 'completed',\n",
       " 'some',\n",
       " 'project',\n",
       " 'in',\n",
       " 'Data',\n",
       " 'Science',\n",
       " 'Those',\n",
       " 'I',\n",
       " 'kept',\n",
       " 'in',\n",
       " 'my',\n",
       " 'github',\n",
       " 'profile',\n",
       " '.',\n",
       " 'Please',\n",
       " 'visit',\n",
       " 'my',\n",
       " 'github',\n",
       " 'profile',\n",
       " 'to',\n",
       " 'judge',\n",
       " 'my',\n",
       " 'work',\n",
       " 'on',\n",
       " 'Data',\n",
       " 'Science',\n",
       " 'field',\n",
       " '.']"
      ]
     },
     "execution_count": 22,
     "metadata": {},
     "output_type": "execute_result"
    }
   ],
   "source": [
    "#spliting paragraph in word\n",
    "word = nlt.word_tokenize(paragraph)\n",
    "word"
   ]
  },
  {
   "cell_type": "code",
   "execution_count": null,
   "metadata": {},
   "outputs": [],
   "source": []
  }
 ],
 "metadata": {
  "kernelspec": {
   "display_name": "Python 3",
   "language": "python",
   "name": "python3"
  },
  "language_info": {
   "codemirror_mode": {
    "name": "ipython",
    "version": 3
   },
   "file_extension": ".py",
   "mimetype": "text/x-python",
   "name": "python",
   "nbconvert_exporter": "python",
   "pygments_lexer": "ipython3",
   "version": "3.7.4"
  }
 },
 "nbformat": 4,
 "nbformat_minor": 2
}
